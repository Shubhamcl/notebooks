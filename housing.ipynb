{
 "cells": [
  {
   "cell_type": "markdown",
   "metadata": {},
   "source": [
    "### Imports"
   ]
  },
  {
   "cell_type": "code",
   "execution_count": 1,
   "metadata": {},
   "outputs": [],
   "source": [
    "%matplotlib inline"
   ]
  },
  {
   "cell_type": "code",
   "execution_count": 2,
   "metadata": {},
   "outputs": [],
   "source": [
    "from fastai.imports import *\n",
    "from fastai.structured import *\n",
    "\n",
    "from pandas_summary import DataFrameSummary\n",
    "from sklearn.ensemble import RandomForestRegressor, RandomForestClassifier\n",
    "from IPython.display import display\n",
    "\n",
    "from sklearn import metrics\n",
    "np.random.seed(1)\n"
   ]
  },
  {
   "cell_type": "code",
   "execution_count": 3,
   "metadata": {},
   "outputs": [],
   "source": [
    "import warnings\n",
    "warnings.filterwarnings(\"ignore\", category=FutureWarning)"
   ]
  },
  {
   "cell_type": "markdown",
   "metadata": {},
   "source": [
    "### Fresh data loading"
   ]
  },
  {
   "cell_type": "code",
   "execution_count": 4,
   "metadata": {},
   "outputs": [],
   "source": [
    "PATH = './data/'"
   ]
  },
  {
   "cell_type": "code",
   "execution_count": 5,
   "metadata": {},
   "outputs": [
    {
     "name": "stdout",
     "output_type": "stream",
     "text": [
      "all.zip\t\t      sample_submission.csv\ttest.csv     train.csv\r\n",
      "data_description.txt  sample_submission.csv.gz\ttest.csv.gz  train.csv.gz\r\n"
     ]
    }
   ],
   "source": [
    "!ls {PATH}"
   ]
  },
  {
   "cell_type": "code",
   "execution_count": 7,
   "metadata": {},
   "outputs": [],
   "source": [
    "df_raw = pd.read_csv(f'{PATH}train.csv', low_memory=False, \n",
    "                     parse_dates=['MoSold','YrSold','YearBuilt','YearRemodAdd','GarageYrBlt'])"
   ]
  },
  {
   "cell_type": "markdown",
   "metadata": {},
   "source": [
    "### Exploration"
   ]
  },
  {
   "cell_type": "code",
   "execution_count": 8,
   "metadata": {},
   "outputs": [],
   "source": [
    "def display_all(df):\n",
    "    with pd.option_context(\"display.max_rows\", 1000): \n",
    "        with pd.option_context(\"display.max_columns\", 1000): \n",
    "            display(df)"
   ]
  },
  {
   "cell_type": "code",
   "execution_count": null,
   "metadata": {},
   "outputs": [],
   "source": [
    "display_all(df_raw.head().T)"
   ]
  },
  {
   "cell_type": "code",
   "execution_count": null,
   "metadata": {},
   "outputs": [],
   "source": [
    "display_all(df_raw.describe(include='all').T)"
   ]
  },
  {
   "cell_type": "markdown",
   "metadata": {},
   "source": [
    "#### Transforming data"
   ]
  },
  {
   "cell_type": "code",
   "execution_count": 9,
   "metadata": {},
   "outputs": [],
   "source": [
    "df_raw.SalePrice = np.log(df_raw.SalePrice)"
   ]
  },
  {
   "cell_type": "code",
   "execution_count": 10,
   "metadata": {},
   "outputs": [],
   "source": [
    "train_cats(df_raw)"
   ]
  },
  {
   "cell_type": "code",
   "execution_count": 11,
   "metadata": {},
   "outputs": [],
   "source": [
    "add_datepart(df_raw, 'YrSold')\n",
    "add_datepart(df_raw, 'YearBuilt')\n",
    "add_datepart(df_raw, 'YearRemodAdd')\n",
    "add_datepart(df_raw, 'GarageYrBlt')"
   ]
  },
  {
   "cell_type": "code",
   "execution_count": 12,
   "metadata": {},
   "outputs": [],
   "source": [
    "os.makedirs('tmp', exist_ok=True)\n",
    "df_raw.to_feather('tmp/houseprices-raw')"
   ]
  },
  {
   "cell_type": "markdown",
   "metadata": {},
   "source": [
    "Storing data in feather format, then reloading and processing by spliting training data and response variable, then converting everything into numbers."
   ]
  },
  {
   "cell_type": "code",
   "execution_count": 13,
   "metadata": {
    "scrolled": true
   },
   "outputs": [],
   "source": [
    "import feather\n",
    "df_raw = feather.read_dataframe('tmp/houseprices-raw')"
   ]
  },
  {
   "cell_type": "code",
   "execution_count": 14,
   "metadata": {},
   "outputs": [],
   "source": [
    "df, y, nas = proc_df(df_raw, 'SalePrice')"
   ]
  },
  {
   "cell_type": "code",
   "execution_count": 15,
   "metadata": {},
   "outputs": [
    {
     "data": {
      "text/plain": [
       "0.9759922768446568"
      ]
     },
     "execution_count": 15,
     "metadata": {},
     "output_type": "execute_result"
    }
   ],
   "source": [
    "m = RandomForestRegressor(n_jobs=-1)\n",
    "m.fit(df, y)\n",
    "m.score(df,y)"
   ]
  },
  {
   "cell_type": "markdown",
   "metadata": {},
   "source": [
    "#### Spliting data, and defining some functions"
   ]
  },
  {
   "cell_type": "code",
   "execution_count": 16,
   "metadata": {},
   "outputs": [],
   "source": [
    "def split_vals(a,n): return a[:n].copy(), a[n:].copy()\n",
    "\n",
    "# Test set size\n",
    "n_valid = 400\n",
    "# Train set size\n",
    "n_trn = len(df)-n_valid\n",
    "\n",
    "raw_train, raw_valid = split_vals(df_raw, n_trn)\n",
    "X_train, X_valid = split_vals(df, n_trn)\n",
    "y_train, y_valid = split_vals(y, n_trn)\n"
   ]
  },
  {
   "cell_type": "code",
   "execution_count": 17,
   "metadata": {},
   "outputs": [],
   "source": [
    "def rmse(x,y): return math.sqrt(((x-y)**2).mean())\n",
    "\n",
    "def print_score(m):\n",
    "    \"\"\"\n",
    "    Printing order:\n",
    "    Training Loss, Validation Loss, training R2, Validation R2.\n",
    "    \"\"\"\n",
    "    res = [rmse(m.predict(X_train), y_train), rmse(m.predict(X_valid), y_valid),\n",
    "                m.score(X_train, y_train), m.score(X_valid, y_valid)]\n",
    "    if hasattr(m, 'oob_score_'): res.append(m.oob_score_)\n",
    "    print(res)"
   ]
  },
  {
   "cell_type": "markdown",
   "metadata": {},
   "source": [
    "### Default RF trail"
   ]
  },
  {
   "cell_type": "code",
   "execution_count": 18,
   "metadata": {},
   "outputs": [
    {
     "name": "stdout",
     "output_type": "stream",
     "text": [
      "CPU times: user 247 ms, sys: 3.61 ms, total: 251 ms\n",
      "Wall time: 118 ms\n",
      "[0.06574898621967994, 0.1512915593139064, 0.9738730089686771, 0.8402830709417434]\n"
     ]
    }
   ],
   "source": [
    "# Default\n",
    "m = RandomForestRegressor(n_jobs=-1, random_state=1)\n",
    "%time m.fit(X_train, y_train)\n",
    "print_score(m)"
   ]
  },
  {
   "cell_type": "markdown",
   "metadata": {},
   "source": [
    "#### Single tree trail and plotting to understand"
   ]
  },
  {
   "cell_type": "code",
   "execution_count": 19,
   "metadata": {},
   "outputs": [
    {
     "name": "stdout",
     "output_type": "stream",
     "text": [
      "CPU times: user 20.5 ms, sys: 2 ms, total: 22.5 ms\n",
      "Wall time: 117 ms\n",
      "[0.21168554305506201, 0.23122825859747456, 0.7291719312935655, 0.6269187955728914]\n"
     ]
    }
   ],
   "source": [
    "# Single tree\n",
    "m = RandomForestRegressor(n_estimators=1, max_depth=3, bootstrap=False, n_jobs=-1, random_state=1)\n",
    "%time m.fit(X_train, y_train)\n",
    "print_score(m)"
   ]
  },
  {
   "cell_type": "code",
   "execution_count": 20,
   "metadata": {},
   "outputs": [
    {
     "data": {
      "image/svg+xml": [
       "<?xml version=\"1.0\" encoding=\"UTF-8\" standalone=\"no\"?>\n",
       "<!DOCTYPE svg PUBLIC \"-//W3C//DTD SVG 1.1//EN\"\n",
       " \"http://www.w3.org/Graphics/SVG/1.1/DTD/svg11.dtd\">\n",
       "<!-- Generated by graphviz version 2.38.0 (20140413.2041)\n",
       " -->\n",
       "<!-- Title: Tree Pages: 1 -->\n",
       "<svg width=\"720pt\" height=\"434pt\"\n",
       " viewBox=\"0.00 0.00 720.00 434.49\" xmlns=\"http://www.w3.org/2000/svg\" xmlns:xlink=\"http://www.w3.org/1999/xlink\">\n",
       "<g id=\"graph0\" class=\"graph\" transform=\"scale(0.778659 0.778659) rotate(0) translate(4 554)\">\n",
       "<title>Tree</title>\n",
       "<polygon fill=\"white\" stroke=\"none\" points=\"-4,4 -4,-554 920.667,-554 920.667,4 -4,4\"/>\n",
       "<!-- 0 -->\n",
       "<g id=\"node1\" class=\"node\"><title>0</title>\n",
       "<polygon fill=\"#e58139\" fill-opacity=\"0.423529\" stroke=\"black\" points=\"148.667,-308.5 32.6667,-308.5 32.6667,-240.5 148.667,-240.5 148.667,-308.5\"/>\n",
       "<text text-anchor=\"start\" x=\"40.6667\" y=\"-293.3\" font-family=\"Times,serif\" font-size=\"14.00\">OverallQual ≤ 6.5</text>\n",
       "<text text-anchor=\"start\" x=\"55.6667\" y=\"-278.3\" font-family=\"Times,serif\" font-size=\"14.00\">mse = 0.165</text>\n",
       "<text text-anchor=\"start\" x=\"46.6667\" y=\"-263.3\" font-family=\"Times,serif\" font-size=\"14.00\">samples = 1060</text>\n",
       "<text text-anchor=\"start\" x=\"49.1667\" y=\"-248.3\" font-family=\"Times,serif\" font-size=\"14.00\">value = 12.029</text>\n",
       "</g>\n",
       "<!-- 1 -->\n",
       "<g id=\"node2\" class=\"node\"><title>1</title>\n",
       "<polygon fill=\"#e58139\" fill-opacity=\"0.247059\" stroke=\"black\" points=\"402.167,-361.5 273.167,-361.5 273.167,-293.5 402.167,-293.5 402.167,-361.5\"/>\n",
       "<text text-anchor=\"start\" x=\"281.167\" y=\"-346.3\" font-family=\"Times,serif\" font-size=\"14.00\">GrLivArea ≤ 1378.5</text>\n",
       "<text text-anchor=\"start\" x=\"302.667\" y=\"-331.3\" font-family=\"Times,serif\" font-size=\"14.00\">mse = 0.085</text>\n",
       "<text text-anchor=\"start\" x=\"297.167\" y=\"-316.3\" font-family=\"Times,serif\" font-size=\"14.00\">samples = 653</text>\n",
       "<text text-anchor=\"start\" x=\"296.167\" y=\"-301.3\" font-family=\"Times,serif\" font-size=\"14.00\">value = 11.808</text>\n",
       "</g>\n",
       "<!-- 0&#45;&gt;1 -->\n",
       "<g id=\"edge1\" class=\"edge\"><title>0&#45;&gt;1</title>\n",
       "<path fill=\"none\" stroke=\"black\" d=\"M148.799,-286.859C182.791,-294.213 226.279,-303.62 262.852,-311.532\"/>\n",
       "<polygon fill=\"black\" stroke=\"black\" points=\"262.457,-315.027 272.971,-313.721 263.937,-308.186 262.457,-315.027\"/>\n",
       "<text text-anchor=\"middle\" x=\"251.955\" y=\"-323.561\" font-family=\"Times,serif\" font-size=\"14.00\">True</text>\n",
       "</g>\n",
       "<!-- 8 -->\n",
       "<g id=\"node9\" class=\"node\"><title>8</title>\n",
       "<polygon fill=\"#e58139\" fill-opacity=\"0.701961\" stroke=\"black\" points=\"395.667,-255.5 279.667,-255.5 279.667,-187.5 395.667,-187.5 395.667,-255.5\"/>\n",
       "<text text-anchor=\"start\" x=\"287.667\" y=\"-240.3\" font-family=\"Times,serif\" font-size=\"14.00\">OverallQual ≤ 7.5</text>\n",
       "<text text-anchor=\"start\" x=\"306.167\" y=\"-225.3\" font-family=\"Times,serif\" font-size=\"14.00\">mse = 0.09</text>\n",
       "<text text-anchor=\"start\" x=\"297.167\" y=\"-210.3\" font-family=\"Times,serif\" font-size=\"14.00\">samples = 407</text>\n",
       "<text text-anchor=\"start\" x=\"296.167\" y=\"-195.3\" font-family=\"Times,serif\" font-size=\"14.00\">value = 12.383</text>\n",
       "</g>\n",
       "<!-- 0&#45;&gt;8 -->\n",
       "<g id=\"edge8\" class=\"edge\"><title>0&#45;&gt;8</title>\n",
       "<path fill=\"none\" stroke=\"black\" d=\"M148.799,-262.141C184.883,-254.335 231.669,-244.214 269.523,-236.025\"/>\n",
       "<polygon fill=\"black\" stroke=\"black\" points=\"270.41,-239.414 279.444,-233.879 268.93,-232.572 270.41,-239.414\"/>\n",
       "<text text-anchor=\"middle\" x=\"258.428\" y=\"-216.639\" font-family=\"Times,serif\" font-size=\"14.00\">False</text>\n",
       "</g>\n",
       "<!-- 2 -->\n",
       "<g id=\"node3\" class=\"node\"><title>2</title>\n",
       "<polygon fill=\"#e58139\" fill-opacity=\"0.160784\" stroke=\"black\" points=\"668.667,-486.5 532.667,-486.5 532.667,-418.5 668.667,-418.5 668.667,-486.5\"/>\n",
       "<text text-anchor=\"start\" x=\"540.667\" y=\"-471.3\" font-family=\"Times,serif\" font-size=\"14.00\">TotalBsmtSF ≤ 814.5</text>\n",
       "<text text-anchor=\"start\" x=\"565.667\" y=\"-456.3\" font-family=\"Times,serif\" font-size=\"14.00\">mse = 0.074</text>\n",
       "<text text-anchor=\"start\" x=\"560.167\" y=\"-441.3\" font-family=\"Times,serif\" font-size=\"14.00\">samples = 407</text>\n",
       "<text text-anchor=\"start\" x=\"559.167\" y=\"-426.3\" font-family=\"Times,serif\" font-size=\"14.00\">value = 11.699</text>\n",
       "</g>\n",
       "<!-- 1&#45;&gt;2 -->\n",
       "<g id=\"edge2\" class=\"edge\"><title>1&#45;&gt;2</title>\n",
       "<path fill=\"none\" stroke=\"black\" d=\"M402.181,-357.919C438.641,-375.38 484.671,-397.426 523.119,-415.839\"/>\n",
       "<polygon fill=\"black\" stroke=\"black\" points=\"521.68,-419.031 532.211,-420.194 524.704,-412.717 521.68,-419.031\"/>\n",
       "</g>\n",
       "<!-- 5 -->\n",
       "<g id=\"node6\" class=\"node\"><title>5</title>\n",
       "<polygon fill=\"#e58139\" fill-opacity=\"0.388235\" stroke=\"black\" points=\"666.667,-361.5 534.667,-361.5 534.667,-293.5 666.667,-293.5 666.667,-361.5\"/>\n",
       "<text text-anchor=\"start\" x=\"542.667\" y=\"-346.3\" font-family=\"Times,serif\" font-size=\"14.00\">BsmtFinSF1 ≤ 239.0</text>\n",
       "<text text-anchor=\"start\" x=\"565.667\" y=\"-331.3\" font-family=\"Times,serif\" font-size=\"14.00\">mse = 0.051</text>\n",
       "<text text-anchor=\"start\" x=\"560.167\" y=\"-316.3\" font-family=\"Times,serif\" font-size=\"14.00\">samples = 246</text>\n",
       "<text text-anchor=\"start\" x=\"559.167\" y=\"-301.3\" font-family=\"Times,serif\" font-size=\"14.00\">value = 11.989</text>\n",
       "</g>\n",
       "<!-- 1&#45;&gt;5 -->\n",
       "<g id=\"edge5\" class=\"edge\"><title>1&#45;&gt;5</title>\n",
       "<path fill=\"none\" stroke=\"black\" d=\"M402.181,-327.5C439.025,-327.5 485.644,-327.5 524.334,-327.5\"/>\n",
       "<polygon fill=\"black\" stroke=\"black\" points=\"524.504,-331 534.504,-327.5 524.504,-324 524.504,-331\"/>\n",
       "</g>\n",
       "<!-- 3 -->\n",
       "<g id=\"node4\" class=\"node\"><title>3</title>\n",
       "<polygon fill=\"none\" stroke=\"black\" points=\"889.167,-550 790.167,-550 790.167,-497 889.167,-497 889.167,-550\"/>\n",
       "<text text-anchor=\"start\" x=\"804.667\" y=\"-534.8\" font-family=\"Times,serif\" font-size=\"14.00\">mse = 0.086</text>\n",
       "<text text-anchor=\"start\" x=\"799.167\" y=\"-519.8\" font-family=\"Times,serif\" font-size=\"14.00\">samples = 139</text>\n",
       "<text text-anchor=\"start\" x=\"798.167\" y=\"-504.8\" font-family=\"Times,serif\" font-size=\"14.00\">value = 11.499</text>\n",
       "</g>\n",
       "<!-- 2&#45;&gt;3 -->\n",
       "<g id=\"edge3\" class=\"edge\"><title>2&#45;&gt;3</title>\n",
       "<path fill=\"none\" stroke=\"black\" d=\"M668.947,-472.656C704.072,-483.178 746.631,-495.928 780.344,-506.028\"/>\n",
       "<polygon fill=\"black\" stroke=\"black\" points=\"779.47,-509.42 790.054,-508.937 781.479,-502.714 779.47,-509.42\"/>\n",
       "</g>\n",
       "<!-- 4 -->\n",
       "<g id=\"node5\" class=\"node\"><title>4</title>\n",
       "<polygon fill=\"#e58139\" fill-opacity=\"0.243137\" stroke=\"black\" points=\"889.167,-479 790.167,-479 790.167,-426 889.167,-426 889.167,-479\"/>\n",
       "<text text-anchor=\"start\" x=\"804.667\" y=\"-463.8\" font-family=\"Times,serif\" font-size=\"14.00\">mse = 0.036</text>\n",
       "<text text-anchor=\"start\" x=\"799.167\" y=\"-448.8\" font-family=\"Times,serif\" font-size=\"14.00\">samples = 268</text>\n",
       "<text text-anchor=\"start\" x=\"798.167\" y=\"-433.8\" font-family=\"Times,serif\" font-size=\"14.00\">value = 11.802</text>\n",
       "</g>\n",
       "<!-- 2&#45;&gt;4 -->\n",
       "<g id=\"edge4\" class=\"edge\"><title>2&#45;&gt;4</title>\n",
       "<path fill=\"none\" stroke=\"black\" d=\"M668.947,-452.5C703.921,-452.5 746.266,-452.5 779.91,-452.5\"/>\n",
       "<polygon fill=\"black\" stroke=\"black\" points=\"780.054,-456 790.054,-452.5 780.054,-449 780.054,-456\"/>\n",
       "</g>\n",
       "<!-- 6 -->\n",
       "<g id=\"node7\" class=\"node\"><title>6</title>\n",
       "<polygon fill=\"#e58139\" fill-opacity=\"0.286275\" stroke=\"black\" points=\"889.167,-408 790.167,-408 790.167,-355 889.167,-355 889.167,-408\"/>\n",
       "<text text-anchor=\"start\" x=\"804.667\" y=\"-392.8\" font-family=\"Times,serif\" font-size=\"14.00\">mse = 0.048</text>\n",
       "<text text-anchor=\"start\" x=\"799.167\" y=\"-377.8\" font-family=\"Times,serif\" font-size=\"14.00\">samples = 104</text>\n",
       "<text text-anchor=\"start\" x=\"798.167\" y=\"-362.8\" font-family=\"Times,serif\" font-size=\"14.00\">value = 11.859</text>\n",
       "</g>\n",
       "<!-- 5&#45;&gt;6 -->\n",
       "<g id=\"edge6\" class=\"edge\"><title>5&#45;&gt;6</title>\n",
       "<path fill=\"none\" stroke=\"black\" d=\"M666.741,-342.327C702.163,-350.398 745.638,-360.304 780.008,-368.135\"/>\n",
       "<polygon fill=\"black\" stroke=\"black\" points=\"779.376,-371.58 789.904,-370.389 780.931,-364.755 779.376,-371.58\"/>\n",
       "</g>\n",
       "<!-- 7 -->\n",
       "<g id=\"node8\" class=\"node\"><title>7</title>\n",
       "<polygon fill=\"#e58139\" fill-opacity=\"0.466667\" stroke=\"black\" points=\"889.167,-337 790.167,-337 790.167,-284 889.167,-284 889.167,-337\"/>\n",
       "<text text-anchor=\"start\" x=\"804.667\" y=\"-321.8\" font-family=\"Times,serif\" font-size=\"14.00\">mse = 0.031</text>\n",
       "<text text-anchor=\"start\" x=\"799.167\" y=\"-306.8\" font-family=\"Times,serif\" font-size=\"14.00\">samples = 142</text>\n",
       "<text text-anchor=\"start\" x=\"798.167\" y=\"-291.8\" font-family=\"Times,serif\" font-size=\"14.00\">value = 12.084</text>\n",
       "</g>\n",
       "<!-- 5&#45;&gt;7 -->\n",
       "<g id=\"edge7\" class=\"edge\"><title>5&#45;&gt;7</title>\n",
       "<path fill=\"none\" stroke=\"black\" d=\"M666.741,-322.832C702.011,-320.302 745.265,-317.2 779.565,-314.739\"/>\n",
       "<polygon fill=\"black\" stroke=\"black\" points=\"780.18,-318.204 789.904,-313.998 779.679,-311.222 780.18,-318.204\"/>\n",
       "</g>\n",
       "<!-- 9 -->\n",
       "<g id=\"node10\" class=\"node\"><title>9</title>\n",
       "<polygon fill=\"#e58139\" fill-opacity=\"0.576471\" stroke=\"black\" points=\"665.167,-255.5 536.167,-255.5 536.167,-187.5 665.167,-187.5 665.167,-255.5\"/>\n",
       "<text text-anchor=\"start\" x=\"544.167\" y=\"-240.3\" font-family=\"Times,serif\" font-size=\"14.00\">GrLivArea ≤ 1725.0</text>\n",
       "<text text-anchor=\"start\" x=\"565.667\" y=\"-225.3\" font-family=\"Times,serif\" font-size=\"14.00\">mse = 0.044</text>\n",
       "<text text-anchor=\"start\" x=\"560.167\" y=\"-210.3\" font-family=\"Times,serif\" font-size=\"14.00\">samples = 236</text>\n",
       "<text text-anchor=\"start\" x=\"559.167\" y=\"-195.3\" font-family=\"Times,serif\" font-size=\"14.00\">value = 12.225</text>\n",
       "</g>\n",
       "<!-- 8&#45;&gt;9 -->\n",
       "<g id=\"edge9\" class=\"edge\"><title>8&#45;&gt;9</title>\n",
       "<path fill=\"none\" stroke=\"black\" d=\"M395.944,-221.5C434.125,-221.5 484.668,-221.5 525.859,-221.5\"/>\n",
       "<polygon fill=\"black\" stroke=\"black\" points=\"526.116,-225 536.116,-221.5 526.116,-218 526.116,-225\"/>\n",
       "</g>\n",
       "<!-- 12 -->\n",
       "<g id=\"node13\" class=\"node\"><title>12</title>\n",
       "<polygon fill=\"#e58139\" fill-opacity=\"0.878431\" stroke=\"black\" points=\"665.167,-131.5 536.167,-131.5 536.167,-63.5 665.167,-63.5 665.167,-131.5\"/>\n",
       "<text text-anchor=\"start\" x=\"544.167\" y=\"-116.3\" font-family=\"Times,serif\" font-size=\"14.00\">GrLivArea ≤ 1939.5</text>\n",
       "<text text-anchor=\"start\" x=\"565.667\" y=\"-101.3\" font-family=\"Times,serif\" font-size=\"14.00\">mse = 0.072</text>\n",
       "<text text-anchor=\"start\" x=\"560.167\" y=\"-86.3\" font-family=\"Times,serif\" font-size=\"14.00\">samples = 171</text>\n",
       "<text text-anchor=\"start\" x=\"559.167\" y=\"-71.3\" font-family=\"Times,serif\" font-size=\"14.00\">value = 12.601</text>\n",
       "</g>\n",
       "<!-- 8&#45;&gt;12 -->\n",
       "<g id=\"edge12\" class=\"edge\"><title>8&#45;&gt;12</title>\n",
       "<path fill=\"none\" stroke=\"black\" d=\"M395.944,-194.288C434.448,-175.995 485.526,-151.728 526.904,-132.069\"/>\n",
       "<polygon fill=\"black\" stroke=\"black\" points=\"528.586,-135.145 536.116,-127.693 525.582,-128.823 528.586,-135.145\"/>\n",
       "</g>\n",
       "<!-- 10 -->\n",
       "<g id=\"node11\" class=\"node\"><title>10</title>\n",
       "<polygon fill=\"#e58139\" fill-opacity=\"0.505882\" stroke=\"black\" points=\"889.167,-266 790.167,-266 790.167,-213 889.167,-213 889.167,-266\"/>\n",
       "<text text-anchor=\"start\" x=\"804.667\" y=\"-250.8\" font-family=\"Times,serif\" font-size=\"14.00\">mse = 0.029</text>\n",
       "<text text-anchor=\"start\" x=\"799.167\" y=\"-235.8\" font-family=\"Times,serif\" font-size=\"14.00\">samples = 138</text>\n",
       "<text text-anchor=\"start\" x=\"798.167\" y=\"-220.8\" font-family=\"Times,serif\" font-size=\"14.00\">value = 12.133</text>\n",
       "</g>\n",
       "<!-- 9&#45;&gt;10 -->\n",
       "<g id=\"edge10\" class=\"edge\"><title>9&#45;&gt;10</title>\n",
       "<path fill=\"none\" stroke=\"black\" d=\"M665.178,-226.324C700.87,-229.034 745.112,-232.395 779.986,-235.043\"/>\n",
       "<polygon fill=\"black\" stroke=\"black\" points=\"779.786,-238.538 790.022,-235.805 780.316,-231.558 779.786,-238.538\"/>\n",
       "</g>\n",
       "<!-- 11 -->\n",
       "<g id=\"node12\" class=\"node\"><title>11</title>\n",
       "<polygon fill=\"#e58139\" fill-opacity=\"0.682353\" stroke=\"black\" points=\"889.167,-195 790.167,-195 790.167,-142 889.167,-142 889.167,-195\"/>\n",
       "<text text-anchor=\"start\" x=\"804.667\" y=\"-179.8\" font-family=\"Times,serif\" font-size=\"14.00\">mse = 0.037</text>\n",
       "<text text-anchor=\"start\" x=\"802.667\" y=\"-164.8\" font-family=\"Times,serif\" font-size=\"14.00\">samples = 98</text>\n",
       "<text text-anchor=\"start\" x=\"798.167\" y=\"-149.8\" font-family=\"Times,serif\" font-size=\"14.00\">value = 12.355</text>\n",
       "</g>\n",
       "<!-- 9&#45;&gt;11 -->\n",
       "<g id=\"edge11\" class=\"edge\"><title>9&#45;&gt;11</title>\n",
       "<path fill=\"none\" stroke=\"black\" d=\"M665.178,-207.297C700.87,-199.315 745.112,-189.421 779.986,-181.623\"/>\n",
       "<polygon fill=\"black\" stroke=\"black\" points=\"781.027,-184.976 790.022,-179.378 779.499,-178.145 781.027,-184.976\"/>\n",
       "</g>\n",
       "<!-- 13 -->\n",
       "<g id=\"node14\" class=\"node\"><title>13</title>\n",
       "<polygon fill=\"#e58139\" fill-opacity=\"0.764706\" stroke=\"black\" points=\"889.167,-124 790.167,-124 790.167,-71 889.167,-71 889.167,-124\"/>\n",
       "<text text-anchor=\"start\" x=\"804.667\" y=\"-108.8\" font-family=\"Times,serif\" font-size=\"14.00\">mse = 0.042</text>\n",
       "<text text-anchor=\"start\" x=\"802.667\" y=\"-93.8\" font-family=\"Times,serif\" font-size=\"14.00\">samples = 90</text>\n",
       "<text text-anchor=\"start\" x=\"798.167\" y=\"-78.8\" font-family=\"Times,serif\" font-size=\"14.00\">value = 12.462</text>\n",
       "</g>\n",
       "<!-- 12&#45;&gt;13 -->\n",
       "<g id=\"edge13\" class=\"edge\"><title>12&#45;&gt;13</title>\n",
       "<path fill=\"none\" stroke=\"black\" d=\"M665.178,-97.5C700.87,-97.5 745.112,-97.5 779.986,-97.5\"/>\n",
       "<polygon fill=\"black\" stroke=\"black\" points=\"780.022,-101 790.022,-97.5 780.022,-94.0001 780.022,-101\"/>\n",
       "</g>\n",
       "<!-- 14 -->\n",
       "<g id=\"node15\" class=\"node\"><title>14</title>\n",
       "<polygon fill=\"#e58139\" stroke=\"black\" points=\"889.167,-53 790.167,-53 790.167,-0 889.167,-0 889.167,-53\"/>\n",
       "<text text-anchor=\"start\" x=\"804.667\" y=\"-37.8\" font-family=\"Times,serif\" font-size=\"14.00\">mse = 0.061</text>\n",
       "<text text-anchor=\"start\" x=\"802.667\" y=\"-22.8\" font-family=\"Times,serif\" font-size=\"14.00\">samples = 81</text>\n",
       "<text text-anchor=\"start\" x=\"798.167\" y=\"-7.8\" font-family=\"Times,serif\" font-size=\"14.00\">value = 12.756</text>\n",
       "</g>\n",
       "<!-- 12&#45;&gt;14 -->\n",
       "<g id=\"edge14\" class=\"edge\"><title>12&#45;&gt;14</title>\n",
       "<path fill=\"none\" stroke=\"black\" d=\"M665.178,-78.4733C701.023,-67.7351 745.492,-54.413 780.435,-43.9451\"/>\n",
       "<polygon fill=\"black\" stroke=\"black\" points=\"781.447,-47.2954 790.022,-41.0728 779.438,-40.5898 781.447,-47.2954\"/>\n",
       "</g>\n",
       "</g>\n",
       "</svg>\n"
      ],
      "text/plain": [
       "<graphviz.files.Source at 0x7f6f574e8390>"
      ]
     },
     "metadata": {},
     "output_type": "display_data"
    }
   ],
   "source": [
    "draw_tree(m.estimators_[0], X_train, precision=3)"
   ]
  },
  {
   "cell_type": "markdown",
   "metadata": {},
   "source": [
    "### Bagging experiments"
   ]
  },
  {
   "cell_type": "code",
   "execution_count": 21,
   "metadata": {},
   "outputs": [
    {
     "name": "stdout",
     "output_type": "stream",
     "text": [
      "[0.06574898621967998, 0.1512915593139064, 0.9738730089686771, 0.8402830709417436]\n"
     ]
    }
   ],
   "source": [
    "m = RandomForestRegressor(n_jobs=-1, random_state=1)\n",
    "m.fit(X_train, y_train)\n",
    "print_score(m)"
   ]
  },
  {
   "cell_type": "markdown",
   "metadata": {},
   "source": [
    "#### Predicting with each tree, on single example"
   ]
  },
  {
   "cell_type": "code",
   "execution_count": 22,
   "metadata": {},
   "outputs": [
    {
     "data": {
      "text/plain": [
       "(array([12.17819, 12.23563, 12.3737 , 12.87902, 12.41105, 12.87902, 12.32386, 12.3737 , 12.1495 , 12.10016]),\n",
       " 12.390382672256948,\n",
       " 12.271392111650817)"
      ]
     },
     "execution_count": 22,
     "metadata": {},
     "output_type": "execute_result"
    }
   ],
   "source": [
    "preds = np.stack([t.predict(X_valid) for t in m.estimators_])\n",
    "preds[:,0], np.mean(preds[:,0]), y_valid[0]"
   ]
  },
  {
   "cell_type": "code",
   "execution_count": 23,
   "metadata": {},
   "outputs": [
    {
     "data": {
      "text/plain": [
       "(10, 400)"
      ]
     },
     "execution_count": 23,
     "metadata": {},
     "output_type": "execute_result"
    }
   ],
   "source": [
    "preds.shape"
   ]
  },
  {
   "cell_type": "code",
   "execution_count": 24,
   "metadata": {},
   "outputs": [
    {
     "data": {
      "image/png": "[encoded data removed]",
      "text/plain": [
       "<Figure size 432x288 with 1 Axes>"
      ]
     },
     "metadata": {},
     "output_type": "display_data"
    }
   ],
   "source": [
    "plt.plot([metrics.r2_score(y_valid, np.mean(preds[:i+1], axis=0)) for i in range(10)]);"
   ]
  },
  {
   "cell_type": "markdown",
   "metadata": {},
   "source": [
    "#### Trying more estimators"
   ]
  },
  {
   "cell_type": "code",
   "execution_count": 25,
   "metadata": {},
   "outputs": [
    {
     "name": "stdout",
     "output_type": "stream",
     "text": [
      "[0.06137932312129362, 0.14609996098283015, 0.9772303967071445, 0.8510564320833057]\n"
     ]
    }
   ],
   "source": [
    "m = RandomForestRegressor(n_estimators=20, n_jobs=-1, random_state=1)\n",
    "m.fit(X_train, y_train)\n",
    "print_score(m)"
   ]
  },
  {
   "cell_type": "code",
   "execution_count": 26,
   "metadata": {},
   "outputs": [
    {
     "name": "stdout",
     "output_type": "stream",
     "text": [
      "[0.0576417616993992, 0.1434183695709812, 0.9799189801344811, 0.8564738236218608]\n"
     ]
    }
   ],
   "source": [
    "m = RandomForestRegressor(n_estimators=40, n_jobs=-1, random_state=1)\n",
    "m.fit(X_train, y_train)\n",
    "print_score(m)"
   ]
  },
  {
   "cell_type": "code",
   "execution_count": 27,
   "metadata": {},
   "outputs": [
    {
     "name": "stdout",
     "output_type": "stream",
     "text": [
      "[0.05584811570577004, 0.1403242158054702, 0.9811492634466256, 0.862599978428384]\n"
     ]
    }
   ],
   "source": [
    "m = RandomForestRegressor(n_estimators=80, n_jobs=-1, random_state=1)\n",
    "m.fit(X_train, y_train)\n",
    "print_score(m)"
   ]
  },
  {
   "cell_type": "code",
   "execution_count": 28,
   "metadata": {},
   "outputs": [
    {
     "name": "stdout",
     "output_type": "stream",
     "text": [
      "[0.05515916086264726, 0.14200253697431942, 0.9816114884984417, 0.8592936296928363]\n"
     ]
    }
   ],
   "source": [
    "m = RandomForestRegressor(n_estimators=160, n_jobs=-1, random_state=1)\n",
    "m.fit(X_train, y_train)\n",
    "print_score(m)"
   ]
  },
  {
   "cell_type": "code",
   "execution_count": 29,
   "metadata": {},
   "outputs": [],
   "source": [
    "preds = np.stack([t.predict(X_valid) for t in m.estimators_])\n",
    "# preds[:,0], np.mean(preds[:,0]), y_valid[0]"
   ]
  },
  {
   "cell_type": "code",
   "execution_count": 30,
   "metadata": {},
   "outputs": [
    {
     "data": {
      "image/png": "[encoded data removed]",
      "text/plain": [
       "<Figure size 432x288 with 1 Axes>"
      ]
     },
     "metadata": {},
     "output_type": "display_data"
    }
   ],
   "source": [
    "plt.plot([metrics.r2_score(y_valid, np.mean(preds[:i+1], axis=0)) for i in range(80)]);"
   ]
  },
  {
   "cell_type": "code",
   "execution_count": 31,
   "metadata": {},
   "outputs": [
    {
     "name": "stdout",
     "output_type": "stream",
     "text": [
      "[0.056459048981764896, 0.1393600988387213, 0.9807345839923204, 0.8644815441379754]\n"
     ]
    }
   ],
   "source": [
    "m = RandomForestRegressor(n_estimators=60, n_jobs=-1, random_state=1)\n",
    "m.fit(X_train, y_train)\n",
    "print_score(m)"
   ]
  },
  {
   "cell_type": "markdown",
   "metadata": {},
   "source": [
    "#### Trying out of bag parametr"
   ]
  },
  {
   "cell_type": "code",
   "execution_count": 32,
   "metadata": {},
   "outputs": [
    {
     "name": "stdout",
     "output_type": "stream",
     "text": [
      "[0.05825314495998931, 0.14223338796677545, 0.979490738223577, 0.8588357701532265, 0.8539414216556724]\n",
      "[0.05794352783787125, 0.1411207137563594, 0.9797081734658317, 0.8610357519073614, 0.854041526198531]\n",
      "[0.05902157256881147, 0.14789751427318576, 0.9789460868160711, 0.8473688055734511, 0.8560338700655437]\n"
     ]
    }
   ],
   "source": [
    "m = RandomForestRegressor(n_estimators=40, oob_score=True, n_jobs=-1)\n",
    "m.fit(X_train, y_train)\n",
    "print_score(m)\n",
    "m = RandomForestRegressor(n_estimators=40, oob_score=True, n_jobs=-1)\n",
    "m.fit(X_train, y_train)\n",
    "print_score(m)\n",
    "m = RandomForestRegressor(n_estimators=40, oob_score=True, n_jobs=-1)\n",
    "m.fit(X_train, y_train)\n",
    "print_score(m)"
   ]
  },
  {
   "cell_type": "markdown",
   "metadata": {},
   "source": [
    "Hard to what is happing as out of bag score is sometimes more than validation score and sometimes not.\n",
    "But the difference doesn't seem to be very high.\n",
    "Need to fix the seed here."
   ]
  },
  {
   "cell_type": "markdown",
   "metadata": {},
   "source": [
    "### Subsampling for out of bag approach"
   ]
  },
  {
   "cell_type": "code",
   "execution_count": 33,
   "metadata": {},
   "outputs": [],
   "source": [
    "df_trn, y_trn, nas = proc_df(df_raw, 'SalePrice')\n",
    "X_train, X_valid = split_vals(df_trn, n_trn)\n",
    "y_train, y_valid = split_vals(y_trn, n_trn)"
   ]
  },
  {
   "cell_type": "code",
   "execution_count": 34,
   "metadata": {},
   "outputs": [],
   "source": [
    "set_rf_samples(1000)"
   ]
  },
  {
   "cell_type": "code",
   "execution_count": 35,
   "metadata": {},
   "outputs": [
    {
     "name": "stderr",
     "output_type": "stream",
     "text": [
      "/home/shubham/Downloads/exit/lib/python3.6/site-packages/sklearn/ensemble/forest.py:732: UserWarning: Some inputs do not have OOB scores. This probably means too few trees were used to compute any reliable oob estimates.\n",
      "  warn(\"Some inputs do not have OOB scores. \"\n"
     ]
    },
    {
     "name": "stdout",
     "output_type": "stream",
     "text": [
      "CPU times: user 247 ms, sys: 3.88 ms, total: 251 ms\n",
      "Wall time: 130 ms\n",
      "[0.07104898919815886, 0.1547458775220996, 0.9694910625973859, 0.8329064332904339, -5.70015203095804]\n"
     ]
    }
   ],
   "source": [
    "m = RandomForestRegressor(n_jobs=-1, oob_score=True, random_state=1)\n",
    "%time m.fit(X_train, y_train)\n",
    "print_score(m)"
   ]
  },
  {
   "cell_type": "code",
   "execution_count": 36,
   "metadata": {},
   "outputs": [
    {
     "name": "stdout",
     "output_type": "stream",
     "text": [
      "CPU times: user 11.5 s, sys: 56.2 ms, total: 11.5 s\n",
      "Wall time: 3.42 s\n",
      "[0.05736199003516815, 0.1406586672442693, 0.9801134386693224, 0.8619442341859406, 0.8690681508297415]\n"
     ]
    }
   ],
   "source": [
    "m = RandomForestRegressor(n_estimators=500, n_jobs=-1, oob_score=True, random_state=1)\n",
    "%time m.fit(X_train, y_train)\n",
    "print_score(m)"
   ]
  },
  {
   "cell_type": "markdown",
   "metadata": {},
   "source": [
    "#### Trying min samples leaf"
   ]
  },
  {
   "cell_type": "code",
   "execution_count": 37,
   "metadata": {},
   "outputs": [
    {
     "name": "stdout",
     "output_type": "stream",
     "text": [
      "CPU times: user 963 ms, sys: 10.7 ms, total: 974 ms\n",
      "Wall time: 368 ms\n",
      "[0.08022110231987165, 0.1437454538822458, 0.9611054702412524, 0.8558184167451447, 0.8564595906716586]\n"
     ]
    }
   ],
   "source": [
    "m = RandomForestRegressor(n_estimators=60, n_jobs=-1, min_samples_leaf=3, oob_score=True, random_state=1)\n",
    "%time m.fit(X_train, y_train)\n",
    "print_score(m)"
   ]
  },
  {
   "cell_type": "code",
   "execution_count": 38,
   "metadata": {},
   "outputs": [
    {
     "name": "stdout",
     "output_type": "stream",
     "text": [
      "CPU times: user 810 ms, sys: 7.32 ms, total: 818 ms\n",
      "Wall time: 366 ms\n",
      "[0.09777982340692314, 0.14696275046527102, 0.9422157113015952, 0.8492920730759559, 0.8528524507343405]\n"
     ]
    }
   ],
   "source": [
    "m = RandomForestRegressor(n_estimators=60, n_jobs=-1, min_samples_leaf=5, oob_score=True, random_state=1)\n",
    "%time m.fit(X_train, y_train)\n",
    "print_score(m)"
   ]
  },
  {
   "cell_type": "code",
   "execution_count": 39,
   "metadata": {},
   "outputs": [
    {
     "name": "stdout",
     "output_type": "stream",
     "text": [
      "CPU times: user 656 ms, sys: 3.96 ms, total: 660 ms\n",
      "Wall time: 268 ms\n",
      "[0.12240753053796687, 0.1533211526715657, 0.9094418488020171, 0.8359690861548025, 0.845405762429244]\n"
     ]
    }
   ],
   "source": [
    "m = RandomForestRegressor(n_estimators=60, n_jobs=-1, min_samples_leaf=10, oob_score=True, random_state=1)\n",
    "%time m.fit(X_train, y_train)\n",
    "print_score(m)"
   ]
  },
  {
   "cell_type": "code",
   "execution_count": 40,
   "metadata": {},
   "outputs": [
    {
     "name": "stdout",
     "output_type": "stream",
     "text": [
      "CPU times: user 570 ms, sys: 7.43 ms, total: 578 ms\n",
      "Wall time: 267 ms\n",
      "[0.13546196929051427, 0.16008570813989242, 0.8890962977346502, 0.8211756413779543, 0.836611547452913]\n"
     ]
    }
   ],
   "source": [
    "m = RandomForestRegressor(n_estimators=60, n_jobs=-1, min_samples_leaf=15, oob_score=True, random_state=1)\n",
    "%time m.fit(X_train, y_train)\n",
    "print_score(m)"
   ]
  },
  {
   "cell_type": "markdown",
   "metadata": {},
   "source": [
    "#### Trying max features"
   ]
  },
  {
   "cell_type": "code",
   "execution_count": 41,
   "metadata": {},
   "outputs": [],
   "source": [
    "reset_rf_samples()"
   ]
  },
  {
   "cell_type": "code",
   "execution_count": 42,
   "metadata": {},
   "outputs": [
    {
     "name": "stdout",
     "output_type": "stream",
     "text": [
      "CPU times: user 542 ms, sys: 4.49 ms, total: 547 ms\n",
      "Wall time: 252 ms\n",
      "[0.055418970894466985, 0.1384750963532731, 0.9814378538313372, 0.8661972913558492, 0.8641336519070981]\n"
     ]
    }
   ],
   "source": [
    "m = RandomForestRegressor(n_estimators=40, n_jobs=-1, max_features=0.5, oob_score=True, random_state=1)\n",
    "%time m.fit(X_train, y_train)\n",
    "print_score(m)"
   ]
  },
  {
   "cell_type": "code",
   "execution_count": 43,
   "metadata": {},
   "outputs": [
    {
     "name": "stdout",
     "output_type": "stream",
     "text": [
      "CPU times: user 13.2 s, sys: 80.7 ms, total: 13.2 s\n",
      "Wall time: 4.07 s\n",
      "[0.05291206728169283, 0.13621963120016292, 0.9830792061608639, 0.8705205179464763, 0.8759796581944645]\n"
     ]
    }
   ],
   "source": [
    "m = RandomForestRegressor(n_estimators=1000, n_jobs=-1, max_features=0.5, oob_score=True, random_state=1)\n",
    "%time m.fit(X_train, y_train)\n",
    "print_score(m)"
   ]
  },
  {
   "cell_type": "code",
   "execution_count": null,
   "metadata": {},
   "outputs": [],
   "source": [
    "??set_rf_samples"
   ]
  },
  {
   "cell_type": "code",
   "execution_count": null,
   "metadata": {},
   "outputs": [],
   "source": []
  },
  {
   "cell_type": "code",
   "execution_count": null,
   "metadata": {},
   "outputs": [],
   "source": []
  }
 ],
 "metadata": {
  "kernelspec": {
   "display_name": "Python 3",
   "language": "python",
   "name": "python3"
  },
  "language_info": {
   "codemirror_mode": {
    "name": "ipython",
    "version": 3
   },
   "file_extension": ".py",
   "mimetype": "text/x-python",
   "name": "python",
   "nbconvert_exporter": "python",
   "pygments_lexer": "ipython3",
   "version": "3.6.5"
  }
 },
 "nbformat": 4,
 "nbformat_minor": 2
}
